{
  "nbformat": 4,
  "nbformat_minor": 0,
  "metadata": {
    "colab": {
      "provenance": [],
      "authorship_tag": "ABX9TyOL2faNagVhXOXcICVrsVzj",
      "include_colab_link": true
    },
    "kernelspec": {
      "name": "python3",
      "display_name": "Python 3"
    },
    "language_info": {
      "name": "python"
    }
  },
  "cells": [
    {
      "cell_type": "markdown",
      "metadata": {
        "id": "view-in-github",
        "colab_type": "text"
      },
      "source": [
        "<a href=\"https://colab.research.google.com/github/GustavosJesusSec/trabalho_faculdade_2024_09_17/blob/main/repositorio.ipynb\" target=\"_parent\"><img src=\"https://colab.research.google.com/assets/colab-badge.svg\" alt=\"Open In Colab\"/></a>"
      ]
    },
    {
      "cell_type": "markdown",
      "source": [
        "EX1"
      ],
      "metadata": {
        "id": "RQ6vwoS2uRmH"
      }
    },
    {
      "cell_type": "code",
      "execution_count": 6,
      "metadata": {
        "colab": {
          "base_uri": "https://localhost:8080/"
        },
        "id": "jjpmMQgjtcue",
        "outputId": "53db87e2-9a53-4a31-926a-4899b6078de0"
      },
      "outputs": [
        {
          "output_type": "stream",
          "name": "stdout",
          "text": [
            "91\n"
          ]
        }
      ],
      "source": [
        "INDICE = 13\n",
        "SOMA = 0\n",
        "K = 0\n",
        "while K < INDICE:\n",
        "  K = K + 1\n",
        "  SOMA = SOMA + K\n",
        "print(SOMA)"
      ]
    },
    {
      "cell_type": "markdown",
      "source": [
        "EX 2"
      ],
      "metadata": {
        "id": "LApIpoaquUxn"
      }
    },
    {
      "cell_type": "code",
      "source": [
        "def test_fib(num):\n",
        "    if num < 0:\n",
        "        return False\n",
        "    fib1, fib2 = 0, 1\n",
        "    while fib1 <= num:\n",
        "        if fib1 == num:\n",
        "            return True\n",
        "        fib1, fib2 = fib2, fib1 + fib2\n",
        "    return False\n",
        "\n",
        "numero = int(input(\"Digite um número: \"))\n",
        "if test_fib(numero):\n",
        "    print(f\"O número {numero} pertence à sequência de Fibonacci.\")\n",
        "else:\n",
        "    print(f\"O número {numero} não pertence à sequência de Fibonacci.\")\n",
        "\n",
        "print(fibonacci(n))\n"
      ],
      "metadata": {
        "colab": {
          "base_uri": "https://localhost:8080/"
        },
        "id": "vULQYTRiuhft",
        "outputId": "08280e8f-8a6a-4113-d619-13dd881380db"
      },
      "execution_count": 10,
      "outputs": [
        {
          "output_type": "stream",
          "name": "stdout",
          "text": [
            "Digite um número: 5\n",
            "O número 5 pertence à sequência de Fibonacci.\n",
            "[0, 1, 1, 2, 3, 5, 8, 13, 21, 34]\n"
          ]
        }
      ]
    },
    {
      "cell_type": "markdown",
      "source": [
        "EX3"
      ],
      "metadata": {
        "id": "8i9dgMcHwCZ2"
      }
    },
    {
      "cell_type": "code",
      "source": [
        "import xml.etree.ElementTree as ET\n",
        "import pandas as pd\n",
        "\n",
        "def ler_faturamento_xml(arquivo_xml):\n",
        "    tree = ET.parse(arquivo_xml)\n",
        "    root = tree.getroot()\n",
        "    faturamentos = []\n",
        "\n",
        "    for dia in root.findall('dia'):\n",
        "        valor = float(dia.find('valor').text)\n",
        "        faturamentos.append(valor)\n",
        "\n",
        "    return faturamentos\n",
        "\n",
        "def calcular_faturamento(faturamentos):\n",
        "\n",
        "    df = pd.Series(faturamentos)\n",
        "\n",
        "\n",
        "    menor_valor = df.min()\n",
        "    maior_valor = df.max()\n",
        "    media_mensal = df.mean()\n",
        "\n",
        "\n",
        "    dias_acima_media = df[df > media_mensal].count()\n",
        "\n",
        "    return menor_valor, maior_valor, dias_acima_media\n",
        "\n",
        "\n",
        "arquivo_xml = 'Inserir_Caminho_do_Arquivo_XML'\n",
        "\n",
        "\n",
        "faturamentos = ler_faturamento_xml(arquivo_xml)\n",
        "\n",
        "\n",
        "menor_valor, maior_valor, dias_acima_media = calcular_faturamento(faturamentos)\n",
        "\n",
        "\n",
        "print(f\"Menor valor de faturamento: {menor_valor}\")\n",
        "print(f\"Maior valor de faturamento: {maior_valor}\")\n",
        "print(f\"Número de dias com faturamento acima da média mensal: {dias_acima_media}\")\n"
      ],
      "metadata": {
        "colab": {
          "base_uri": "https://localhost:8080/",
          "height": 356
        },
        "id": "NRyYA_uAwDmd",
        "outputId": "282a7847-3803-4d5a-bd94-d114a03c780c"
      },
      "execution_count": 11,
      "outputs": [
        {
          "output_type": "error",
          "ename": "FileNotFoundError",
          "evalue": "[Errno 2] No such file or directory: 'Inserir_Caminho_do_Arquivo_XML'",
          "traceback": [
            "\u001b[0;31m---------------------------------------------------------------------------\u001b[0m",
            "\u001b[0;31mFileNotFoundError\u001b[0m                         Traceback (most recent call last)",
            "\u001b[0;32m<ipython-input-11-697432a6e1bf>\u001b[0m in \u001b[0;36m<cell line: 33>\u001b[0;34m()\u001b[0m\n\u001b[1;32m     31\u001b[0m \u001b[0;34m\u001b[0m\u001b[0m\n\u001b[1;32m     32\u001b[0m \u001b[0;34m\u001b[0m\u001b[0m\n\u001b[0;32m---> 33\u001b[0;31m \u001b[0mfaturamentos\u001b[0m \u001b[0;34m=\u001b[0m \u001b[0mler_faturamento_xml\u001b[0m\u001b[0;34m(\u001b[0m\u001b[0marquivo_xml\u001b[0m\u001b[0;34m)\u001b[0m\u001b[0;34m\u001b[0m\u001b[0;34m\u001b[0m\u001b[0m\n\u001b[0m\u001b[1;32m     34\u001b[0m \u001b[0;34m\u001b[0m\u001b[0m\n\u001b[1;32m     35\u001b[0m \u001b[0;34m\u001b[0m\u001b[0m\n",
            "\u001b[0;32m<ipython-input-11-697432a6e1bf>\u001b[0m in \u001b[0;36mler_faturamento_xml\u001b[0;34m(arquivo_xml)\u001b[0m\n\u001b[1;32m      3\u001b[0m \u001b[0;34m\u001b[0m\u001b[0m\n\u001b[1;32m      4\u001b[0m \u001b[0;32mdef\u001b[0m \u001b[0mler_faturamento_xml\u001b[0m\u001b[0;34m(\u001b[0m\u001b[0marquivo_xml\u001b[0m\u001b[0;34m)\u001b[0m\u001b[0;34m:\u001b[0m\u001b[0;34m\u001b[0m\u001b[0;34m\u001b[0m\u001b[0m\n\u001b[0;32m----> 5\u001b[0;31m     \u001b[0mtree\u001b[0m \u001b[0;34m=\u001b[0m \u001b[0mET\u001b[0m\u001b[0;34m.\u001b[0m\u001b[0mparse\u001b[0m\u001b[0;34m(\u001b[0m\u001b[0marquivo_xml\u001b[0m\u001b[0;34m)\u001b[0m\u001b[0;34m\u001b[0m\u001b[0;34m\u001b[0m\u001b[0m\n\u001b[0m\u001b[1;32m      6\u001b[0m     \u001b[0mroot\u001b[0m \u001b[0;34m=\u001b[0m \u001b[0mtree\u001b[0m\u001b[0;34m.\u001b[0m\u001b[0mgetroot\u001b[0m\u001b[0;34m(\u001b[0m\u001b[0;34m)\u001b[0m\u001b[0;34m\u001b[0m\u001b[0;34m\u001b[0m\u001b[0m\n\u001b[1;32m      7\u001b[0m     \u001b[0mfaturamentos\u001b[0m \u001b[0;34m=\u001b[0m \u001b[0;34m[\u001b[0m\u001b[0;34m]\u001b[0m\u001b[0;34m\u001b[0m\u001b[0;34m\u001b[0m\u001b[0m\n",
            "\u001b[0;32m/usr/lib/python3.10/xml/etree/ElementTree.py\u001b[0m in \u001b[0;36mparse\u001b[0;34m(source, parser)\u001b[0m\n\u001b[1;32m   1220\u001b[0m     \"\"\"\n\u001b[1;32m   1221\u001b[0m     \u001b[0mtree\u001b[0m \u001b[0;34m=\u001b[0m \u001b[0mElementTree\u001b[0m\u001b[0;34m(\u001b[0m\u001b[0;34m)\u001b[0m\u001b[0;34m\u001b[0m\u001b[0;34m\u001b[0m\u001b[0m\n\u001b[0;32m-> 1222\u001b[0;31m     \u001b[0mtree\u001b[0m\u001b[0;34m.\u001b[0m\u001b[0mparse\u001b[0m\u001b[0;34m(\u001b[0m\u001b[0msource\u001b[0m\u001b[0;34m,\u001b[0m \u001b[0mparser\u001b[0m\u001b[0;34m)\u001b[0m\u001b[0;34m\u001b[0m\u001b[0;34m\u001b[0m\u001b[0m\n\u001b[0m\u001b[1;32m   1223\u001b[0m     \u001b[0;32mreturn\u001b[0m \u001b[0mtree\u001b[0m\u001b[0;34m\u001b[0m\u001b[0;34m\u001b[0m\u001b[0m\n\u001b[1;32m   1224\u001b[0m \u001b[0;34m\u001b[0m\u001b[0m\n",
            "\u001b[0;32m/usr/lib/python3.10/xml/etree/ElementTree.py\u001b[0m in \u001b[0;36mparse\u001b[0;34m(self, source, parser)\u001b[0m\n\u001b[1;32m    567\u001b[0m         \u001b[0mclose_source\u001b[0m \u001b[0;34m=\u001b[0m \u001b[0;32mFalse\u001b[0m\u001b[0;34m\u001b[0m\u001b[0;34m\u001b[0m\u001b[0m\n\u001b[1;32m    568\u001b[0m         \u001b[0;32mif\u001b[0m \u001b[0;32mnot\u001b[0m \u001b[0mhasattr\u001b[0m\u001b[0;34m(\u001b[0m\u001b[0msource\u001b[0m\u001b[0;34m,\u001b[0m \u001b[0;34m\"read\"\u001b[0m\u001b[0;34m)\u001b[0m\u001b[0;34m:\u001b[0m\u001b[0;34m\u001b[0m\u001b[0;34m\u001b[0m\u001b[0m\n\u001b[0;32m--> 569\u001b[0;31m             \u001b[0msource\u001b[0m \u001b[0;34m=\u001b[0m \u001b[0mopen\u001b[0m\u001b[0;34m(\u001b[0m\u001b[0msource\u001b[0m\u001b[0;34m,\u001b[0m \u001b[0;34m\"rb\"\u001b[0m\u001b[0;34m)\u001b[0m\u001b[0;34m\u001b[0m\u001b[0;34m\u001b[0m\u001b[0m\n\u001b[0m\u001b[1;32m    570\u001b[0m             \u001b[0mclose_source\u001b[0m \u001b[0;34m=\u001b[0m \u001b[0;32mTrue\u001b[0m\u001b[0;34m\u001b[0m\u001b[0;34m\u001b[0m\u001b[0m\n\u001b[1;32m    571\u001b[0m         \u001b[0;32mtry\u001b[0m\u001b[0;34m:\u001b[0m\u001b[0;34m\u001b[0m\u001b[0;34m\u001b[0m\u001b[0m\n",
            "\u001b[0;31mFileNotFoundError\u001b[0m: [Errno 2] No such file or directory: 'Inserir_Caminho_do_Arquivo_XML'"
          ]
        }
      ]
    },
    {
      "cell_type": "markdown",
      "source": [
        "EX 4"
      ],
      "metadata": {
        "id": "w-5SHyyWw3y1"
      }
    },
    {
      "cell_type": "code",
      "source": [
        "faturamento_estados = {\n",
        "    'SP': 67836.43,\n",
        "    'RJ': 36678.66,\n",
        "    'MG': 29229.88,\n",
        "    'ES': 27165.48,\n",
        "    'Outros': 19849.53\n",
        "}\n",
        "\n",
        "\n",
        "faturamento_total = sum(faturamento_estados.values())\n",
        "\n",
        "\n",
        "print(\"Porcentagem de Representação por Cada estado:\")\n",
        "for estado, faturamento in faturamento_estados.items():\n",
        "    percentual = (faturamento / faturamento_total) * 100\n",
        "    print(f\"{estado}: {percentual:.2f}%\")\n"
      ],
      "metadata": {
        "colab": {
          "base_uri": "https://localhost:8080/"
        },
        "id": "_X_yaG5-w3h9",
        "outputId": "fbb82bc0-64e9-4962-c987-6d90a90f7ed4"
      },
      "execution_count": 12,
      "outputs": [
        {
          "output_type": "stream",
          "name": "stdout",
          "text": [
            "Percentual de representação por estado:\n",
            "SP: 37.53%\n",
            "RJ: 20.29%\n",
            "MG: 16.17%\n",
            "ES: 15.03%\n",
            "Outros: 10.98%\n"
          ]
        }
      ]
    },
    {
      "cell_type": "markdown",
      "source": [
        "EX 5"
      ],
      "metadata": {
        "id": "9IzioJTUxUPF"
      }
    },
    {
      "cell_type": "code",
      "source": [
        "def inverter_string(texto):\n",
        "    string_invertida = \"\"\n",
        "    for i in range(len(texto) - 1, -1, -1):\n",
        "        string_invertida += texto[i]\n",
        "    return string_invertida\n",
        "\n",
        "string_original = input(\"Digite uma string para inverter: \")\n",
        "\n",
        "resultado = inverter_string(string_original)\n",
        "\n",
        "print(f\"String original: {string_original}\")\n",
        "print(f\"String invertida: {resultado}\")\n"
      ],
      "metadata": {
        "colab": {
          "base_uri": "https://localhost:8080/"
        },
        "id": "LuyfrYDBxWAd",
        "outputId": "223e4e93-13c4-45ec-c71b-1fb28416307a"
      },
      "execution_count": 13,
      "outputs": [
        {
          "output_type": "stream",
          "name": "stdout",
          "text": [
            "Digite uma string para inverter: FG\n",
            "String original: FG\n",
            "String invertida: GF\n"
          ]
        }
      ]
    }
  ]
}